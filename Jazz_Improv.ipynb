{
  "nbformat": 4,
  "nbformat_minor": 0,
  "metadata": {
    "colab": {
      "provenance": [],
      "authorship_tag": "ABX9TyPoXUruU7faVQiJDj5bNu6g",
      "include_colab_link": true
    },
    "kernelspec": {
      "name": "python3",
      "display_name": "Python 3"
    },
    "language_info": {
      "name": "python"
    }
  },
  "cells": [
    {
      "cell_type": "markdown",
      "metadata": {
        "id": "view-in-github",
        "colab_type": "text"
      },
      "source": [
        "<a href=\"https://colab.research.google.com/github/Svanzi/Jazz-Improvisation/blob/main/Jazz_Improv.ipynb\" target=\"_parent\"><img src=\"https://colab.research.google.com/assets/colab-badge.svg\" alt=\"Open In Colab\"/></a>"
      ]
    },
    {
      "cell_type": "code",
      "source": [
        "import sys\n",
        "import re\n",
        "import numpy as np\n",
        "import pandas as pd\n",
        "import music21\n",
        "from glob import glob\n",
        "import IPython\n",
        "from tqdm import tqdm\n",
        "import pickle\n",
        "from tensorflow.keras.utils import to_categorical\n",
        "# import play\n",
        "import os"
      ],
      "metadata": {
        "id": "1rRIAe0EXKL5"
      },
      "execution_count": null,
      "outputs": []
    },
    {
      "cell_type": "code",
      "source": [
        "!git clone https://github.com/Svanzi/Jazz-Improvisation.git\n",
        "%cd Jazz-Improvisation"
      ],
      "metadata": {
        "colab": {
          "base_uri": "https://localhost:8080/"
        },
        "id": "o4vPhvsPax6b",
        "outputId": "d2b95ccb-98d3-49ed-fda4-48d099171287"
      },
      "execution_count": null,
      "outputs": [
        {
          "output_type": "stream",
          "name": "stdout",
          "text": [
            "Cloning into 'Jazz-Improvisation'...\n",
            "remote: Enumerating objects: 49, done.\u001b[K\n",
            "remote: Counting objects:   2% (1/49)\u001b[K\rremote: Counting objects:   4% (2/49)\u001b[K\rremote: Counting objects:   6% (3/49)\u001b[K\rremote: Counting objects:   8% (4/49)\u001b[K\rremote: Counting objects:  10% (5/49)\u001b[K\rremote: Counting objects:  12% (6/49)\u001b[K\rremote: Counting objects:  14% (7/49)\u001b[K\rremote: Counting objects:  16% (8/49)\u001b[K\rremote: Counting objects:  18% (9/49)\u001b[K\rremote: Counting objects:  20% (10/49)\u001b[K\rremote: Counting objects:  22% (11/49)\u001b[K\rremote: Counting objects:  24% (12/49)\u001b[K\rremote: Counting objects:  26% (13/49)\u001b[K\rremote: Counting objects:  28% (14/49)\u001b[K\rremote: Counting objects:  30% (15/49)\u001b[K\rremote: Counting objects:  32% (16/49)\u001b[K\rremote: Counting objects:  34% (17/49)\u001b[K\rremote: Counting objects:  36% (18/49)\u001b[K\rremote: Counting objects:  38% (19/49)\u001b[K\rremote: Counting objects:  40% (20/49)\u001b[K\rremote: Counting objects:  42% (21/49)\u001b[K\rremote: Counting objects:  44% (22/49)\u001b[K\rremote: Counting objects:  46% (23/49)\u001b[K\rremote: Counting objects:  48% (24/49)\u001b[K\rremote: Counting objects:  51% (25/49)\u001b[K\rremote: Counting objects:  53% (26/49)\u001b[K\rremote: Counting objects:  55% (27/49)\u001b[K\rremote: Counting objects:  57% (28/49)\u001b[K\rremote: Counting objects:  59% (29/49)\u001b[K\rremote: Counting objects:  61% (30/49)\u001b[K\rremote: Counting objects:  63% (31/49)\u001b[K\rremote: Counting objects:  65% (32/49)\u001b[K\rremote: Counting objects:  67% (33/49)\u001b[K\rremote: Counting objects:  69% (34/49)\u001b[K\rremote: Counting objects:  71% (35/49)\u001b[K\rremote: Counting objects:  73% (36/49)\u001b[K\rremote: Counting objects:  75% (37/49)\u001b[K\rremote: Counting objects:  77% (38/49)\u001b[K\rremote: Counting objects:  79% (39/49)\u001b[K\rremote: Counting objects:  81% (40/49)\u001b[K\rremote: Counting objects:  83% (41/49)\u001b[K\rremote: Counting objects:  85% (42/49)\u001b[K\rremote: Counting objects:  87% (43/49)\u001b[K\rremote: Counting objects:  89% (44/49)\u001b[K\rremote: Counting objects:  91% (45/49)\u001b[K\rremote: Counting objects:  93% (46/49)\u001b[K\rremote: Counting objects:  95% (47/49)\u001b[K\rremote: Counting objects:  97% (48/49)\u001b[K\rremote: Counting objects: 100% (49/49)\u001b[K\rremote: Counting objects: 100% (49/49), done.\u001b[K\n",
            "remote: Compressing objects:   2% (1/44)\u001b[K\rremote: Compressing objects:   4% (2/44)\u001b[K\rremote: Compressing objects:   6% (3/44)\u001b[K\rremote: Compressing objects:   9% (4/44)\u001b[K\rremote: Compressing objects:  11% (5/44)\u001b[K\rremote: Compressing objects:  13% (6/44)\u001b[K\rremote: Compressing objects:  15% (7/44)\u001b[K\rremote: Compressing objects:  18% (8/44)\u001b[K\rremote: Compressing objects:  20% (9/44)\u001b[K\rremote: Compressing objects:  22% (10/44)\u001b[K\rremote: Compressing objects:  25% (11/44)\u001b[K\rremote: Compressing objects:  27% (12/44)\u001b[K\rremote: Compressing objects:  29% (13/44)\u001b[K\rremote: Compressing objects:  31% (14/44)\u001b[K\rremote: Compressing objects:  34% (15/44)\u001b[K\rremote: Compressing objects:  36% (16/44)\u001b[K\rremote: Compressing objects:  38% (17/44)\u001b[K\rremote: Compressing objects:  40% (18/44)\u001b[K\rremote: Compressing objects:  43% (19/44)\u001b[K\rremote: Compressing objects:  45% (20/44)\u001b[K\rremote: Compressing objects:  47% (21/44)\u001b[K\rremote: Compressing objects:  50% (22/44)\u001b[K\rremote: Compressing objects:  52% (23/44)\u001b[K\rremote: Compressing objects:  54% (24/44)\u001b[K\rremote: Compressing objects:  56% (25/44)\u001b[K\rremote: Compressing objects:  59% (26/44)\u001b[K\rremote: Compressing objects:  61% (27/44)\u001b[K\rremote: Compressing objects:  63% (28/44)\u001b[K\rremote: Compressing objects:  65% (29/44)\u001b[K\rremote: Compressing objects:  68% (30/44)\u001b[K\rremote: Compressing objects:  70% (31/44)\u001b[K\rremote: Compressing objects:  72% (32/44)\u001b[K\rremote: Compressing objects:  75% (33/44)\u001b[K\rremote: Compressing objects:  77% (34/44)\u001b[K\rremote: Compressing objects:  79% (35/44)\u001b[K\rremote: Compressing objects:  81% (36/44)\u001b[K\rremote: Compressing objects:  84% (37/44)\u001b[K\rremote: Compressing objects:  86% (38/44)\u001b[K\rremote: Compressing objects:  88% (39/44)\u001b[K\rremote: Compressing objects:  90% (40/44)\u001b[K\rremote: Compressing objects:  93% (41/44)\u001b[K\rremote: Compressing objects:  95% (42/44)\u001b[K\rremote: Compressing objects:  97% (43/44)\u001b[K\rremote: Compressing objects: 100% (44/44)\u001b[K\rremote: Compressing objects: 100% (44/44), done.\u001b[K\n",
            "Receiving objects:   2% (1/49)\rReceiving objects:   4% (2/49)\rReceiving objects:   6% (3/49)\rReceiving objects:   8% (4/49)\rReceiving objects:  10% (5/49)\rReceiving objects:  12% (6/49)\rReceiving objects:  14% (7/49)\rReceiving objects:  16% (8/49)\rReceiving objects:  18% (9/49)\rReceiving objects:  20% (10/49)\rReceiving objects:  22% (11/49)\rReceiving objects:  24% (12/49)\rReceiving objects:  26% (13/49)\rReceiving objects:  28% (14/49)\rReceiving objects:  30% (15/49)\rReceiving objects:  32% (16/49)\rReceiving objects:  34% (17/49)\rReceiving objects:  36% (18/49)\rReceiving objects:  38% (19/49)\rReceiving objects:  40% (20/49)\rReceiving objects:  42% (21/49)\rReceiving objects:  44% (22/49)\rReceiving objects:  46% (23/49)\rReceiving objects:  48% (24/49)\rremote: Total 49 (delta 12), reused 3 (delta 0), pack-reused 0 (from 0)\u001b[K\n",
            "Receiving objects:  51% (25/49)\rReceiving objects:  53% (26/49)\rReceiving objects:  55% (27/49)\rReceiving objects:  57% (28/49)\rReceiving objects:  59% (29/49)\rReceiving objects:  61% (30/49)\rReceiving objects:  63% (31/49)\rReceiving objects:  65% (32/49)\rReceiving objects:  67% (33/49)\rReceiving objects:  69% (34/49)\rReceiving objects:  71% (35/49)\rReceiving objects:  73% (36/49)\rReceiving objects:  75% (37/49)\rReceiving objects:  77% (38/49)\rReceiving objects:  79% (39/49)\rReceiving objects:  81% (40/49)\rReceiving objects:  83% (41/49)\rReceiving objects:  85% (42/49)\rReceiving objects:  87% (43/49)\rReceiving objects:  89% (44/49)\rReceiving objects:  91% (45/49)\rReceiving objects:  93% (46/49)\rReceiving objects:  95% (47/49)\rReceiving objects:  97% (48/49)\rReceiving objects: 100% (49/49)\rReceiving objects: 100% (49/49), 43.07 KiB | 7.18 MiB/s, done.\n",
            "Resolving deltas:   0% (0/12)\rResolving deltas:   8% (1/12)\rResolving deltas:  16% (2/12)\rResolving deltas:  25% (3/12)\rResolving deltas:  33% (4/12)\rResolving deltas:  41% (5/12)\rResolving deltas:  50% (6/12)\rResolving deltas:  58% (7/12)\rResolving deltas:  66% (8/12)\rResolving deltas:  75% (9/12)\rResolving deltas:  83% (10/12)\rResolving deltas:  91% (11/12)\rResolving deltas: 100% (12/12)\rResolving deltas: 100% (12/12), done.\n",
            "/content/Jazz-Improvisation/Jazz-Improvisation/Jazz-Improvisation\n"
          ]
        }
      ]
    },
    {
      "cell_type": "code",
      "source": [
        "from google.colab import drive\n",
        "drive.mount('/content/drive')"
      ],
      "metadata": {
        "colab": {
          "base_uri": "https://localhost:8080/"
        },
        "id": "eCEmIr2HbvBg",
        "outputId": "daf9e74e-4cea-4804-a829-9faccf0faf44"
      },
      "execution_count": null,
      "outputs": [
        {
          "output_type": "stream",
          "name": "stdout",
          "text": [
            "Drive already mounted at /content/drive; to attempt to forcibly remount, call drive.mount(\"/content/drive\", force_remount=True).\n"
          ]
        }
      ]
    },
    {
      "cell_type": "code",
      "source": [
        "from music21 import converter, instrument, note, chord, stream"
      ],
      "metadata": {
        "id": "z0n66BELZphD"
      },
      "execution_count": null,
      "outputs": []
    },
    {
      "cell_type": "code",
      "source": [
        "songs = glob(\"MIDI/*.mid\")\n",
        "# Per verificare che il caricamento dei file sia andato a buon fine e che i file midi siano presenti\n",
        "print(songs)"
      ],
      "metadata": {
        "colab": {
          "base_uri": "https://localhost:8080/"
        },
        "id": "wIJX_ga5Zv3h",
        "outputId": "c0b8b562-6f98-41e7-a0e1-41914b3d398b"
      },
      "execution_count": null,
      "outputs": [
        {
          "output_type": "stream",
          "name": "stdout",
          "text": [
            "['MIDI/Jacob_Allen_-_Test.mid', 'MIDI/michel_petrucciani_caravan_solo_-_michel_petrucciani_caravan_solo.mid', 'MIDI/Andre_and_Schwandt_-_Dream_a_Little_Dream.mid', 'MIDI/Ensemble-_Isaac_Piano_Week_4_with_structure__-_Ensamble__Geo_Drum_110_Bpm.mid', 'MIDI/Moab_Berckmans_de_Oliveira_-_MBOM06.mid', 'MIDI/Nintendo_-_Dr._Mario.mid', 'MIDI/Cameron_Lee_Simpson_-_Illumination_Nights.mid']\n"
          ]
        }
      ]
    },
    {
      "cell_type": "markdown",
      "source": [
        "## Load all the notes in an array"
      ],
      "metadata": {
        "id": "n_622W7hdB-w"
      }
    },
    {
      "cell_type": "code",
      "source": [
        "def get_notes():\n",
        "  notes = []\n",
        "  for file in songs:\n",
        "    midi = converter.parse(file)\n",
        "    notes_to_parse = []\n",
        "\n",
        "    try:\n",
        "      parts = instrument.partitionByInstrument(midi)\n",
        "    except:\n",
        "      pass\n",
        "    if parts: # file has instrument parts\n",
        "      notes_to_parse = parts.parts[0].recurse()\n",
        "    else: # file has notes in a flat structure\n",
        "      notes_to_parse = midi.flat.notes\n",
        "\n",
        "    for element in  notes_to_parse:\n",
        "      if isinstance(element, note.Note):\n",
        "        notes.append(str(element.pitch))\n",
        "      elif isinstance(element, chord.Chord):\n",
        "        notes.append('.'.join(str(n) for n in element.normalOrder))\n",
        "\n",
        "  path = '/content/drive/My Drive/University/AI2Arts/data'\n",
        "  os.makedirs(path, exist_ok=True)\n",
        "\n",
        "  with open(os.path.join(path, 'notes'), 'wb') as filepath:\n",
        "    pickle.dump(notes, filepath)\n",
        "\n",
        "  return notes"
      ],
      "metadata": {
        "id": "8Appqeyic-g_"
      },
      "execution_count": null,
      "outputs": []
    },
    {
      "cell_type": "markdown",
      "source": [
        "## Define the input and output sequences"
      ],
      "metadata": {
        "id": "JVGRxevi1Q3X"
      }
    },
    {
      "cell_type": "code",
      "source": [
        "# n_vocab represent the total number of unique notes in the variable 'notes_data'\n",
        "def sequences(notes, n_vocab):\n",
        "  sequence_length = 100\n",
        "\n",
        "  pitchnames = sorted(set(item for item in notes))\n",
        "\n",
        "  note_to_int = dict((note, number) for number, note in enumerate(pitchnames))\n",
        "\n",
        "  network_input = []\n",
        "  network_output = []\n",
        "\n",
        "  for i in range(0, len(notes) - sequence_length, 1):\n",
        "    sequence_in = notes[i: i + sequence_length]\n",
        "    sequence_out = notes[i + sequence_length]\n",
        "    network_input.append([note_to_int[char] for char in sequence_in])\n",
        "    network_output.append(note_to_int[sequence_out])\n",
        "\n",
        "  n_patterns = len(network_input)\n",
        "\n",
        "  network_input = np.reshape(network_input, (n_patterns, sequence_length, 1))\n",
        "\n",
        "  network_input = network_input / float(n_vocab)\n",
        "\n",
        "  network_output = to_categorical(network_output)\n",
        "\n",
        "  return (network_input, network_output)"
      ],
      "metadata": {
        "id": "_Rx2cR5I1Y3B"
      },
      "execution_count": null,
      "outputs": []
    },
    {
      "cell_type": "markdown",
      "source": [
        "## Create the Network"
      ],
      "metadata": {
        "id": "IeYKUmAq8OrN"
      }
    },
    {
      "cell_type": "code",
      "source": [
        "from keras.models import Sequential\n",
        "from keras.layers import Activation, Dense, Dropout, LSTM, Flatten\n",
        "\n",
        "def create_network(network_input, n_vocab):\n",
        "  \"\"\"Create the model architecture\"\"\"\n",
        "  model = Sequential()\n",
        "  model.add(LSTM(256, input_shape=(network_input.shape[1], network_input.shape[2]), return_sequences=True))\n",
        "  model.add(Dropout(0.3))\n",
        "  model.add(LSTM(512, return_sequences=True))\n",
        "  model.add(Dropout(0.3))\n",
        "  model.add(LSTM(256))\n",
        "  model.add(Dense(256))\n",
        "  model.add(Dropout(0.3))\n",
        "  model.add(Dense(n_vocab))\n",
        "  model.add(Activation('softmax'))\n",
        "  model.compile(loss='categorical_crossentropy', optimizer='rmsprop')\n",
        "\n",
        "  return model"
      ],
      "metadata": {
        "id": "7ohJ7FWI8UCa"
      },
      "execution_count": null,
      "outputs": []
    },
    {
      "cell_type": "markdown",
      "source": [
        "## Train"
      ],
      "metadata": {
        "id": "buAB4p-p10bW"
      }
    },
    {
      "cell_type": "code",
      "source": [
        "from keras.callbacks import ModelCheckpoint\n",
        "\n",
        "def train(model, network_input, network_output, epochs):\n",
        "  \"\"\"Train the neural network\"\"\"\n",
        "\n",
        "  #filepath = \"weights.best.music3.epoch-{epoch:02d}.keras\"\n",
        "  filepath = \"/content/drive/MyDrive/University/AI2Arts/weights.best.music3.keras\"\n",
        "\n",
        "  checkpoint = ModelCheckpoint(\n",
        "      filepath,\n",
        "      monitor='loss',\n",
        "      verbose=2,\n",
        "      save_best_only=True,\n",
        "      mode='min'\n",
        "  )\n",
        "\n",
        "  model.fit(network_input, network_output, epochs=epochs, batch_size=64, callbacks = [checkpoint])"
      ],
      "metadata": {
        "id": "0hEEsdAYAsRg"
      },
      "execution_count": null,
      "outputs": []
    },
    {
      "cell_type": "code",
      "source": [
        "def train_network():\n",
        "  \"\"\"\n",
        "  Get notes\n",
        "  Generates input and putput sequences\n",
        "  Create model\n",
        "  TRains the model for the given epochs\n",
        "  \"\"\"\n",
        "\n",
        "  epochs = 200\n",
        "\n",
        "  notes_data = get_notes()\n",
        "  print('Notes processed')\n",
        "\n",
        "  n_vocab = len(set(notes_data))\n",
        "  print('Vocab generated')\n",
        "\n",
        "  network_in, network_out = sequences(notes_data, n_vocab)\n",
        "  print('Input and Output processed')\n",
        "\n",
        "  model = create_network(network_in, n_vocab)\n",
        "  print('Model created')\n",
        "  #return model\n",
        "  print('Training in progress')\n",
        "  train(model,network_in, network_out, epochs)\n",
        "  print('Training completed')"
      ],
      "metadata": {
        "id": "u8mRO_v1hie1"
      },
      "execution_count": null,
      "outputs": []
    },
    {
      "cell_type": "code",
      "source": [
        "notes_data = get_notes()\n",
        "print(f\"Extracted {len(notes_data)} notes/chords.\")\n",
        "print(\"First 10 entries:\", notes_data[:10])"
      ],
      "metadata": {
        "colab": {
          "base_uri": "https://localhost:8080/"
        },
        "id": "6wxZBUS_a6YS",
        "outputId": "8e7c08bd-36e6-4c02-a25e-9c64b146e293"
      },
      "execution_count": null,
      "outputs": [
        {
          "output_type": "stream",
          "name": "stdout",
          "text": [
            "Extracted 3133 notes/chords.\n",
            "First 10 entries: ['A4', 'C4', 'C#4', 'G#3', 'A3', 'F3', 'F#3', 'G#4', 'A4', 'C#4']\n"
          ]
        }
      ]
    },
    {
      "cell_type": "code",
      "source": [
        "train_network()"
      ],
      "metadata": {
        "colab": {
          "base_uri": "https://localhost:8080/",
          "height": 894
        },
        "id": "12ujM9gxZDfg",
        "outputId": "36ec6b25-1cd0-4361-c4f7-776232d5e364"
      },
      "execution_count": null,
      "outputs": [
        {
          "output_type": "stream",
          "name": "stdout",
          "text": [
            "Notes processed\n",
            "Vocab generated\n",
            "Input and Output processed\n",
            "Model created\n",
            "Training in progress\n",
            "Epoch 1/200\n",
            "\u001b[1m48/48\u001b[0m \u001b[32m━━━━━━━━━━━━━━━━━━━━\u001b[0m\u001b[37m\u001b[0m \u001b[1m0s\u001b[0m 3s/step - loss: 4.8591\n",
            "Epoch 1: loss improved from inf to 4.70176, saving model to /content/drive/MyDrive/University/AI2Arts/weights.best.music3.keras\n",
            "\u001b[1m48/48\u001b[0m \u001b[32m━━━━━━━━━━━━━━━━━━━━\u001b[0m\u001b[37m\u001b[0m \u001b[1m173s\u001b[0m 3s/step - loss: 4.8559\n",
            "Epoch 2/200\n",
            "\u001b[1m48/48\u001b[0m \u001b[32m━━━━━━━━━━━━━━━━━━━━\u001b[0m\u001b[37m\u001b[0m \u001b[1m0s\u001b[0m 3s/step - loss: 4.5129\n",
            "Epoch 2: loss improved from 4.70176 to 4.50198, saving model to /content/drive/MyDrive/University/AI2Arts/weights.best.music3.keras\n",
            "\u001b[1m48/48\u001b[0m \u001b[32m━━━━━━━━━━━━━━━━━━━━\u001b[0m\u001b[37m\u001b[0m \u001b[1m165s\u001b[0m 3s/step - loss: 4.5127\n",
            "Epoch 3/200\n",
            "\u001b[1m48/48\u001b[0m \u001b[32m━━━━━━━━━━━━━━━━━━━━\u001b[0m\u001b[37m\u001b[0m \u001b[1m0s\u001b[0m 3s/step - loss: 4.3900\n",
            "Epoch 3: loss improved from 4.50198 to 4.37567, saving model to /content/drive/MyDrive/University/AI2Arts/weights.best.music3.keras\n",
            "\u001b[1m48/48\u001b[0m \u001b[32m━━━━━━━━━━━━━━━━━━━━\u001b[0m\u001b[37m\u001b[0m \u001b[1m203s\u001b[0m 3s/step - loss: 4.3897\n",
            "Epoch 4/200\n",
            "\u001b[1m48/48\u001b[0m \u001b[32m━━━━━━━━━━━━━━━━━━━━\u001b[0m\u001b[37m\u001b[0m \u001b[1m0s\u001b[0m 4s/step - loss: 4.2439\n",
            "Epoch 4: loss improved from 4.37567 to 4.25782, saving model to /content/drive/MyDrive/University/AI2Arts/weights.best.music3.keras\n",
            "\u001b[1m48/48\u001b[0m \u001b[32m━━━━━━━━━━━━━━━━━━━━\u001b[0m\u001b[37m\u001b[0m \u001b[1m206s\u001b[0m 4s/step - loss: 4.2442\n",
            "Epoch 5/200\n",
            "\u001b[1m48/48\u001b[0m \u001b[32m━━━━━━━━━━━━━━━━━━━━\u001b[0m\u001b[37m\u001b[0m \u001b[1m0s\u001b[0m 4s/step - loss: 4.1609\n",
            "Epoch 5: loss improved from 4.25782 to 4.19191, saving model to /content/drive/MyDrive/University/AI2Arts/weights.best.music3.keras\n",
            "\u001b[1m48/48\u001b[0m \u001b[32m━━━━━━━━━━━━━━━━━━━━\u001b[0m\u001b[37m\u001b[0m \u001b[1m168s\u001b[0m 4s/step - loss: 4.1615\n",
            "Epoch 6/200\n",
            "\u001b[1m48/48\u001b[0m \u001b[32m━━━━━━━━━━━━━━━━━━━━\u001b[0m\u001b[37m\u001b[0m \u001b[1m0s\u001b[0m 3s/step - loss: 4.0853\n",
            "Epoch 6: loss improved from 4.19191 to 4.09153, saving model to /content/drive/MyDrive/University/AI2Arts/weights.best.music3.keras\n",
            "\u001b[1m48/48\u001b[0m \u001b[32m━━━━━━━━━━━━━━━━━━━━\u001b[0m\u001b[37m\u001b[0m \u001b[1m198s\u001b[0m 3s/step - loss: 4.0855\n",
            "Epoch 7/200\n",
            "\u001b[1m48/48\u001b[0m \u001b[32m━━━━━━━━━━━━━━━━━━━━\u001b[0m\u001b[37m\u001b[0m \u001b[1m0s\u001b[0m 3s/step - loss: 3.9671\n",
            "Epoch 7: loss improved from 4.09153 to 3.94694, saving model to /content/drive/MyDrive/University/AI2Arts/weights.best.music3.keras\n",
            "\u001b[1m48/48\u001b[0m \u001b[32m━━━━━━━━━━━━━━━━━━━━\u001b[0m\u001b[37m\u001b[0m \u001b[1m164s\u001b[0m 3s/step - loss: 3.9667\n",
            "Epoch 8/200\n",
            "\u001b[1m 2/48\u001b[0m \u001b[37m━━━━━━━━━━━━━━━━━━━━\u001b[0m \u001b[1m2:38\u001b[0m 3s/step - loss: 4.1814  "
          ]
        },
        {
          "output_type": "error",
          "ename": "KeyboardInterrupt",
          "evalue": "",
          "traceback": [
            "\u001b[0;31m---------------------------------------------------------------------------\u001b[0m",
            "\u001b[0;31mKeyboardInterrupt\u001b[0m                         Traceback (most recent call last)",
            "\u001b[0;32m<ipython-input-36-6fd1a7e30b9b>\u001b[0m in \u001b[0;36m<cell line: 0>\u001b[0;34m()\u001b[0m\n\u001b[0;32m----> 1\u001b[0;31m \u001b[0mtrain_network\u001b[0m\u001b[0;34m(\u001b[0m\u001b[0;34m)\u001b[0m\u001b[0;34m\u001b[0m\u001b[0;34m\u001b[0m\u001b[0m\n\u001b[0m",
            "\u001b[0;32m<ipython-input-34-bc6ad31b4781>\u001b[0m in \u001b[0;36mtrain_network\u001b[0;34m()\u001b[0m\n\u001b[1;32m     22\u001b[0m   \u001b[0;31m#return model\u001b[0m\u001b[0;34m\u001b[0m\u001b[0;34m\u001b[0m\u001b[0m\n\u001b[1;32m     23\u001b[0m   \u001b[0mprint\u001b[0m\u001b[0;34m(\u001b[0m\u001b[0;34m'Training in progress'\u001b[0m\u001b[0;34m)\u001b[0m\u001b[0;34m\u001b[0m\u001b[0;34m\u001b[0m\u001b[0m\n\u001b[0;32m---> 24\u001b[0;31m   \u001b[0mtrain\u001b[0m\u001b[0;34m(\u001b[0m\u001b[0mmodel\u001b[0m\u001b[0;34m,\u001b[0m\u001b[0mnetwork_in\u001b[0m\u001b[0;34m,\u001b[0m \u001b[0mnetwork_out\u001b[0m\u001b[0;34m,\u001b[0m \u001b[0mepochs\u001b[0m\u001b[0;34m)\u001b[0m\u001b[0;34m\u001b[0m\u001b[0;34m\u001b[0m\u001b[0m\n\u001b[0m\u001b[1;32m     25\u001b[0m   \u001b[0mprint\u001b[0m\u001b[0;34m(\u001b[0m\u001b[0;34m'Training completed'\u001b[0m\u001b[0;34m)\u001b[0m\u001b[0;34m\u001b[0m\u001b[0;34m\u001b[0m\u001b[0m\n",
            "\u001b[0;32m<ipython-input-33-e93fa6ae69e5>\u001b[0m in \u001b[0;36mtrain\u001b[0;34m(model, network_input, network_output, epochs)\u001b[0m\n\u001b[1;32m     15\u001b[0m   )\n\u001b[1;32m     16\u001b[0m \u001b[0;34m\u001b[0m\u001b[0m\n\u001b[0;32m---> 17\u001b[0;31m   \u001b[0mmodel\u001b[0m\u001b[0;34m.\u001b[0m\u001b[0mfit\u001b[0m\u001b[0;34m(\u001b[0m\u001b[0mnetwork_input\u001b[0m\u001b[0;34m,\u001b[0m \u001b[0mnetwork_output\u001b[0m\u001b[0;34m,\u001b[0m \u001b[0mepochs\u001b[0m\u001b[0;34m=\u001b[0m\u001b[0mepochs\u001b[0m\u001b[0;34m,\u001b[0m \u001b[0mbatch_size\u001b[0m\u001b[0;34m=\u001b[0m\u001b[0;36m64\u001b[0m\u001b[0;34m,\u001b[0m \u001b[0mcallbacks\u001b[0m \u001b[0;34m=\u001b[0m \u001b[0;34m[\u001b[0m\u001b[0mcheckpoint\u001b[0m\u001b[0;34m]\u001b[0m\u001b[0;34m)\u001b[0m\u001b[0;34m\u001b[0m\u001b[0;34m\u001b[0m\u001b[0m\n\u001b[0m",
            "\u001b[0;32m/usr/local/lib/python3.11/dist-packages/keras/src/utils/traceback_utils.py\u001b[0m in \u001b[0;36merror_handler\u001b[0;34m(*args, **kwargs)\u001b[0m\n\u001b[1;32m    115\u001b[0m         \u001b[0mfiltered_tb\u001b[0m \u001b[0;34m=\u001b[0m \u001b[0;32mNone\u001b[0m\u001b[0;34m\u001b[0m\u001b[0;34m\u001b[0m\u001b[0m\n\u001b[1;32m    116\u001b[0m         \u001b[0;32mtry\u001b[0m\u001b[0;34m:\u001b[0m\u001b[0;34m\u001b[0m\u001b[0;34m\u001b[0m\u001b[0m\n\u001b[0;32m--> 117\u001b[0;31m             \u001b[0;32mreturn\u001b[0m \u001b[0mfn\u001b[0m\u001b[0;34m(\u001b[0m\u001b[0;34m*\u001b[0m\u001b[0margs\u001b[0m\u001b[0;34m,\u001b[0m \u001b[0;34m**\u001b[0m\u001b[0mkwargs\u001b[0m\u001b[0;34m)\u001b[0m\u001b[0;34m\u001b[0m\u001b[0;34m\u001b[0m\u001b[0m\n\u001b[0m\u001b[1;32m    118\u001b[0m         \u001b[0;32mexcept\u001b[0m \u001b[0mException\u001b[0m \u001b[0;32mas\u001b[0m \u001b[0me\u001b[0m\u001b[0;34m:\u001b[0m\u001b[0;34m\u001b[0m\u001b[0;34m\u001b[0m\u001b[0m\n\u001b[1;32m    119\u001b[0m             \u001b[0mfiltered_tb\u001b[0m \u001b[0;34m=\u001b[0m \u001b[0m_process_traceback_frames\u001b[0m\u001b[0;34m(\u001b[0m\u001b[0me\u001b[0m\u001b[0;34m.\u001b[0m\u001b[0m__traceback__\u001b[0m\u001b[0;34m)\u001b[0m\u001b[0;34m\u001b[0m\u001b[0;34m\u001b[0m\u001b[0m\n",
            "\u001b[0;32m/usr/local/lib/python3.11/dist-packages/keras/src/backend/tensorflow/trainer.py\u001b[0m in \u001b[0;36mfit\u001b[0;34m(self, x, y, batch_size, epochs, verbose, callbacks, validation_split, validation_data, shuffle, class_weight, sample_weight, initial_epoch, steps_per_epoch, validation_steps, validation_batch_size, validation_freq)\u001b[0m\n\u001b[1;32m    369\u001b[0m                 \u001b[0;32mfor\u001b[0m \u001b[0mstep\u001b[0m\u001b[0;34m,\u001b[0m \u001b[0miterator\u001b[0m \u001b[0;32min\u001b[0m \u001b[0mepoch_iterator\u001b[0m\u001b[0;34m:\u001b[0m\u001b[0;34m\u001b[0m\u001b[0;34m\u001b[0m\u001b[0m\n\u001b[1;32m    370\u001b[0m                     \u001b[0mcallbacks\u001b[0m\u001b[0;34m.\u001b[0m\u001b[0mon_train_batch_begin\u001b[0m\u001b[0;34m(\u001b[0m\u001b[0mstep\u001b[0m\u001b[0;34m)\u001b[0m\u001b[0;34m\u001b[0m\u001b[0;34m\u001b[0m\u001b[0m\n\u001b[0;32m--> 371\u001b[0;31m                     \u001b[0mlogs\u001b[0m \u001b[0;34m=\u001b[0m \u001b[0mself\u001b[0m\u001b[0;34m.\u001b[0m\u001b[0mtrain_function\u001b[0m\u001b[0;34m(\u001b[0m\u001b[0miterator\u001b[0m\u001b[0;34m)\u001b[0m\u001b[0;34m\u001b[0m\u001b[0;34m\u001b[0m\u001b[0m\n\u001b[0m\u001b[1;32m    372\u001b[0m                     \u001b[0mcallbacks\u001b[0m\u001b[0;34m.\u001b[0m\u001b[0mon_train_batch_end\u001b[0m\u001b[0;34m(\u001b[0m\u001b[0mstep\u001b[0m\u001b[0;34m,\u001b[0m \u001b[0mlogs\u001b[0m\u001b[0;34m)\u001b[0m\u001b[0;34m\u001b[0m\u001b[0;34m\u001b[0m\u001b[0m\n\u001b[1;32m    373\u001b[0m                     \u001b[0;32mif\u001b[0m \u001b[0mself\u001b[0m\u001b[0;34m.\u001b[0m\u001b[0mstop_training\u001b[0m\u001b[0;34m:\u001b[0m\u001b[0;34m\u001b[0m\u001b[0;34m\u001b[0m\u001b[0m\n",
            "\u001b[0;32m/usr/local/lib/python3.11/dist-packages/keras/src/backend/tensorflow/trainer.py\u001b[0m in \u001b[0;36mfunction\u001b[0;34m(iterator)\u001b[0m\n\u001b[1;32m    217\u001b[0m                 \u001b[0miterator\u001b[0m\u001b[0;34m,\u001b[0m \u001b[0;34m(\u001b[0m\u001b[0mtf\u001b[0m\u001b[0;34m.\u001b[0m\u001b[0mdata\u001b[0m\u001b[0;34m.\u001b[0m\u001b[0mIterator\u001b[0m\u001b[0;34m,\u001b[0m \u001b[0mtf\u001b[0m\u001b[0;34m.\u001b[0m\u001b[0mdistribute\u001b[0m\u001b[0;34m.\u001b[0m\u001b[0mDistributedIterator\u001b[0m\u001b[0;34m)\u001b[0m\u001b[0;34m\u001b[0m\u001b[0;34m\u001b[0m\u001b[0m\n\u001b[1;32m    218\u001b[0m             ):\n\u001b[0;32m--> 219\u001b[0;31m                 \u001b[0mopt_outputs\u001b[0m \u001b[0;34m=\u001b[0m \u001b[0mmulti_step_on_iterator\u001b[0m\u001b[0;34m(\u001b[0m\u001b[0miterator\u001b[0m\u001b[0;34m)\u001b[0m\u001b[0;34m\u001b[0m\u001b[0;34m\u001b[0m\u001b[0m\n\u001b[0m\u001b[1;32m    220\u001b[0m                 \u001b[0;32mif\u001b[0m \u001b[0;32mnot\u001b[0m \u001b[0mopt_outputs\u001b[0m\u001b[0;34m.\u001b[0m\u001b[0mhas_value\u001b[0m\u001b[0;34m(\u001b[0m\u001b[0;34m)\u001b[0m\u001b[0;34m:\u001b[0m\u001b[0;34m\u001b[0m\u001b[0;34m\u001b[0m\u001b[0m\n\u001b[1;32m    221\u001b[0m                     \u001b[0;32mraise\u001b[0m \u001b[0mStopIteration\u001b[0m\u001b[0;34m\u001b[0m\u001b[0;34m\u001b[0m\u001b[0m\n",
            "\u001b[0;32m/usr/local/lib/python3.11/dist-packages/tensorflow/python/util/traceback_utils.py\u001b[0m in \u001b[0;36merror_handler\u001b[0;34m(*args, **kwargs)\u001b[0m\n\u001b[1;32m    148\u001b[0m     \u001b[0mfiltered_tb\u001b[0m \u001b[0;34m=\u001b[0m \u001b[0;32mNone\u001b[0m\u001b[0;34m\u001b[0m\u001b[0;34m\u001b[0m\u001b[0m\n\u001b[1;32m    149\u001b[0m     \u001b[0;32mtry\u001b[0m\u001b[0;34m:\u001b[0m\u001b[0;34m\u001b[0m\u001b[0;34m\u001b[0m\u001b[0m\n\u001b[0;32m--> 150\u001b[0;31m       \u001b[0;32mreturn\u001b[0m \u001b[0mfn\u001b[0m\u001b[0;34m(\u001b[0m\u001b[0;34m*\u001b[0m\u001b[0margs\u001b[0m\u001b[0;34m,\u001b[0m \u001b[0;34m**\u001b[0m\u001b[0mkwargs\u001b[0m\u001b[0;34m)\u001b[0m\u001b[0;34m\u001b[0m\u001b[0;34m\u001b[0m\u001b[0m\n\u001b[0m\u001b[1;32m    151\u001b[0m     \u001b[0;32mexcept\u001b[0m \u001b[0mException\u001b[0m \u001b[0;32mas\u001b[0m \u001b[0me\u001b[0m\u001b[0;34m:\u001b[0m\u001b[0;34m\u001b[0m\u001b[0;34m\u001b[0m\u001b[0m\n\u001b[1;32m    152\u001b[0m       \u001b[0mfiltered_tb\u001b[0m \u001b[0;34m=\u001b[0m \u001b[0m_process_traceback_frames\u001b[0m\u001b[0;34m(\u001b[0m\u001b[0me\u001b[0m\u001b[0;34m.\u001b[0m\u001b[0m__traceback__\u001b[0m\u001b[0;34m)\u001b[0m\u001b[0;34m\u001b[0m\u001b[0;34m\u001b[0m\u001b[0m\n",
            "\u001b[0;32m/usr/local/lib/python3.11/dist-packages/tensorflow/python/eager/polymorphic_function/polymorphic_function.py\u001b[0m in \u001b[0;36m__call__\u001b[0;34m(self, *args, **kwds)\u001b[0m\n\u001b[1;32m    831\u001b[0m \u001b[0;34m\u001b[0m\u001b[0m\n\u001b[1;32m    832\u001b[0m       \u001b[0;32mwith\u001b[0m \u001b[0mOptionalXlaContext\u001b[0m\u001b[0;34m(\u001b[0m\u001b[0mself\u001b[0m\u001b[0;34m.\u001b[0m\u001b[0m_jit_compile\u001b[0m\u001b[0;34m)\u001b[0m\u001b[0;34m:\u001b[0m\u001b[0;34m\u001b[0m\u001b[0;34m\u001b[0m\u001b[0m\n\u001b[0;32m--> 833\u001b[0;31m         \u001b[0mresult\u001b[0m \u001b[0;34m=\u001b[0m \u001b[0mself\u001b[0m\u001b[0;34m.\u001b[0m\u001b[0m_call\u001b[0m\u001b[0;34m(\u001b[0m\u001b[0;34m*\u001b[0m\u001b[0margs\u001b[0m\u001b[0;34m,\u001b[0m \u001b[0;34m**\u001b[0m\u001b[0mkwds\u001b[0m\u001b[0;34m)\u001b[0m\u001b[0;34m\u001b[0m\u001b[0;34m\u001b[0m\u001b[0m\n\u001b[0m\u001b[1;32m    834\u001b[0m \u001b[0;34m\u001b[0m\u001b[0m\n\u001b[1;32m    835\u001b[0m       \u001b[0mnew_tracing_count\u001b[0m \u001b[0;34m=\u001b[0m \u001b[0mself\u001b[0m\u001b[0;34m.\u001b[0m\u001b[0mexperimental_get_tracing_count\u001b[0m\u001b[0;34m(\u001b[0m\u001b[0;34m)\u001b[0m\u001b[0;34m\u001b[0m\u001b[0;34m\u001b[0m\u001b[0m\n",
            "\u001b[0;32m/usr/local/lib/python3.11/dist-packages/tensorflow/python/eager/polymorphic_function/polymorphic_function.py\u001b[0m in \u001b[0;36m_call\u001b[0;34m(self, *args, **kwds)\u001b[0m\n\u001b[1;32m    876\u001b[0m       \u001b[0;31m# In this case we have not created variables on the first call. So we can\u001b[0m\u001b[0;34m\u001b[0m\u001b[0;34m\u001b[0m\u001b[0m\n\u001b[1;32m    877\u001b[0m       \u001b[0;31m# run the first trace but we should fail if variables are created.\u001b[0m\u001b[0;34m\u001b[0m\u001b[0;34m\u001b[0m\u001b[0m\n\u001b[0;32m--> 878\u001b[0;31m       results = tracing_compilation.call_function(\n\u001b[0m\u001b[1;32m    879\u001b[0m           \u001b[0margs\u001b[0m\u001b[0;34m,\u001b[0m \u001b[0mkwds\u001b[0m\u001b[0;34m,\u001b[0m \u001b[0mself\u001b[0m\u001b[0;34m.\u001b[0m\u001b[0m_variable_creation_config\u001b[0m\u001b[0;34m\u001b[0m\u001b[0;34m\u001b[0m\u001b[0m\n\u001b[1;32m    880\u001b[0m       )\n",
            "\u001b[0;32m/usr/local/lib/python3.11/dist-packages/tensorflow/python/eager/polymorphic_function/tracing_compilation.py\u001b[0m in \u001b[0;36mcall_function\u001b[0;34m(args, kwargs, tracing_options)\u001b[0m\n\u001b[1;32m    137\u001b[0m   \u001b[0mbound_args\u001b[0m \u001b[0;34m=\u001b[0m \u001b[0mfunction\u001b[0m\u001b[0;34m.\u001b[0m\u001b[0mfunction_type\u001b[0m\u001b[0;34m.\u001b[0m\u001b[0mbind\u001b[0m\u001b[0;34m(\u001b[0m\u001b[0;34m*\u001b[0m\u001b[0margs\u001b[0m\u001b[0;34m,\u001b[0m \u001b[0;34m**\u001b[0m\u001b[0mkwargs\u001b[0m\u001b[0;34m)\u001b[0m\u001b[0;34m\u001b[0m\u001b[0;34m\u001b[0m\u001b[0m\n\u001b[1;32m    138\u001b[0m   \u001b[0mflat_inputs\u001b[0m \u001b[0;34m=\u001b[0m \u001b[0mfunction\u001b[0m\u001b[0;34m.\u001b[0m\u001b[0mfunction_type\u001b[0m\u001b[0;34m.\u001b[0m\u001b[0munpack_inputs\u001b[0m\u001b[0;34m(\u001b[0m\u001b[0mbound_args\u001b[0m\u001b[0;34m)\u001b[0m\u001b[0;34m\u001b[0m\u001b[0;34m\u001b[0m\u001b[0m\n\u001b[0;32m--> 139\u001b[0;31m   return function._call_flat(  # pylint: disable=protected-access\n\u001b[0m\u001b[1;32m    140\u001b[0m       \u001b[0mflat_inputs\u001b[0m\u001b[0;34m,\u001b[0m \u001b[0mcaptured_inputs\u001b[0m\u001b[0;34m=\u001b[0m\u001b[0mfunction\u001b[0m\u001b[0;34m.\u001b[0m\u001b[0mcaptured_inputs\u001b[0m\u001b[0;34m\u001b[0m\u001b[0;34m\u001b[0m\u001b[0m\n\u001b[1;32m    141\u001b[0m   )\n",
            "\u001b[0;32m/usr/local/lib/python3.11/dist-packages/tensorflow/python/eager/polymorphic_function/concrete_function.py\u001b[0m in \u001b[0;36m_call_flat\u001b[0;34m(self, tensor_inputs, captured_inputs)\u001b[0m\n\u001b[1;32m   1320\u001b[0m         and executing_eagerly):\n\u001b[1;32m   1321\u001b[0m       \u001b[0;31m# No tape is watching; skip to running the function.\u001b[0m\u001b[0;34m\u001b[0m\u001b[0;34m\u001b[0m\u001b[0m\n\u001b[0;32m-> 1322\u001b[0;31m       \u001b[0;32mreturn\u001b[0m \u001b[0mself\u001b[0m\u001b[0;34m.\u001b[0m\u001b[0m_inference_function\u001b[0m\u001b[0;34m.\u001b[0m\u001b[0mcall_preflattened\u001b[0m\u001b[0;34m(\u001b[0m\u001b[0margs\u001b[0m\u001b[0;34m)\u001b[0m\u001b[0;34m\u001b[0m\u001b[0;34m\u001b[0m\u001b[0m\n\u001b[0m\u001b[1;32m   1323\u001b[0m     forward_backward = self._select_forward_and_backward_functions(\n\u001b[1;32m   1324\u001b[0m         \u001b[0margs\u001b[0m\u001b[0;34m,\u001b[0m\u001b[0;34m\u001b[0m\u001b[0;34m\u001b[0m\u001b[0m\n",
            "\u001b[0;32m/usr/local/lib/python3.11/dist-packages/tensorflow/python/eager/polymorphic_function/atomic_function.py\u001b[0m in \u001b[0;36mcall_preflattened\u001b[0;34m(self, args)\u001b[0m\n\u001b[1;32m    214\u001b[0m   \u001b[0;32mdef\u001b[0m \u001b[0mcall_preflattened\u001b[0m\u001b[0;34m(\u001b[0m\u001b[0mself\u001b[0m\u001b[0;34m,\u001b[0m \u001b[0margs\u001b[0m\u001b[0;34m:\u001b[0m \u001b[0mSequence\u001b[0m\u001b[0;34m[\u001b[0m\u001b[0mcore\u001b[0m\u001b[0;34m.\u001b[0m\u001b[0mTensor\u001b[0m\u001b[0;34m]\u001b[0m\u001b[0;34m)\u001b[0m \u001b[0;34m->\u001b[0m \u001b[0mAny\u001b[0m\u001b[0;34m:\u001b[0m\u001b[0;34m\u001b[0m\u001b[0;34m\u001b[0m\u001b[0m\n\u001b[1;32m    215\u001b[0m     \u001b[0;34m\"\"\"Calls with flattened tensor inputs and returns the structured output.\"\"\"\u001b[0m\u001b[0;34m\u001b[0m\u001b[0;34m\u001b[0m\u001b[0m\n\u001b[0;32m--> 216\u001b[0;31m     \u001b[0mflat_outputs\u001b[0m \u001b[0;34m=\u001b[0m \u001b[0mself\u001b[0m\u001b[0;34m.\u001b[0m\u001b[0mcall_flat\u001b[0m\u001b[0;34m(\u001b[0m\u001b[0;34m*\u001b[0m\u001b[0margs\u001b[0m\u001b[0;34m)\u001b[0m\u001b[0;34m\u001b[0m\u001b[0;34m\u001b[0m\u001b[0m\n\u001b[0m\u001b[1;32m    217\u001b[0m     \u001b[0;32mreturn\u001b[0m \u001b[0mself\u001b[0m\u001b[0;34m.\u001b[0m\u001b[0mfunction_type\u001b[0m\u001b[0;34m.\u001b[0m\u001b[0mpack_output\u001b[0m\u001b[0;34m(\u001b[0m\u001b[0mflat_outputs\u001b[0m\u001b[0;34m)\u001b[0m\u001b[0;34m\u001b[0m\u001b[0;34m\u001b[0m\u001b[0m\n\u001b[1;32m    218\u001b[0m \u001b[0;34m\u001b[0m\u001b[0m\n",
            "\u001b[0;32m/usr/local/lib/python3.11/dist-packages/tensorflow/python/eager/polymorphic_function/atomic_function.py\u001b[0m in \u001b[0;36mcall_flat\u001b[0;34m(self, *args)\u001b[0m\n\u001b[1;32m    249\u001b[0m         \u001b[0;32mwith\u001b[0m \u001b[0mrecord\u001b[0m\u001b[0;34m.\u001b[0m\u001b[0mstop_recording\u001b[0m\u001b[0;34m(\u001b[0m\u001b[0;34m)\u001b[0m\u001b[0;34m:\u001b[0m\u001b[0;34m\u001b[0m\u001b[0;34m\u001b[0m\u001b[0m\n\u001b[1;32m    250\u001b[0m           \u001b[0;32mif\u001b[0m \u001b[0mself\u001b[0m\u001b[0;34m.\u001b[0m\u001b[0m_bound_context\u001b[0m\u001b[0;34m.\u001b[0m\u001b[0mexecuting_eagerly\u001b[0m\u001b[0;34m(\u001b[0m\u001b[0;34m)\u001b[0m\u001b[0;34m:\u001b[0m\u001b[0;34m\u001b[0m\u001b[0;34m\u001b[0m\u001b[0m\n\u001b[0;32m--> 251\u001b[0;31m             outputs = self._bound_context.call_function(\n\u001b[0m\u001b[1;32m    252\u001b[0m                 \u001b[0mself\u001b[0m\u001b[0;34m.\u001b[0m\u001b[0mname\u001b[0m\u001b[0;34m,\u001b[0m\u001b[0;34m\u001b[0m\u001b[0;34m\u001b[0m\u001b[0m\n\u001b[1;32m    253\u001b[0m                 \u001b[0mlist\u001b[0m\u001b[0;34m(\u001b[0m\u001b[0margs\u001b[0m\u001b[0;34m)\u001b[0m\u001b[0;34m,\u001b[0m\u001b[0;34m\u001b[0m\u001b[0;34m\u001b[0m\u001b[0m\n",
            "\u001b[0;32m/usr/local/lib/python3.11/dist-packages/tensorflow/python/eager/context.py\u001b[0m in \u001b[0;36mcall_function\u001b[0;34m(self, name, tensor_inputs, num_outputs)\u001b[0m\n\u001b[1;32m   1681\u001b[0m     \u001b[0mcancellation_context\u001b[0m \u001b[0;34m=\u001b[0m \u001b[0mcancellation\u001b[0m\u001b[0;34m.\u001b[0m\u001b[0mcontext\u001b[0m\u001b[0;34m(\u001b[0m\u001b[0;34m)\u001b[0m\u001b[0;34m\u001b[0m\u001b[0;34m\u001b[0m\u001b[0m\n\u001b[1;32m   1682\u001b[0m     \u001b[0;32mif\u001b[0m \u001b[0mcancellation_context\u001b[0m \u001b[0;32mis\u001b[0m \u001b[0;32mNone\u001b[0m\u001b[0;34m:\u001b[0m\u001b[0;34m\u001b[0m\u001b[0;34m\u001b[0m\u001b[0m\n\u001b[0;32m-> 1683\u001b[0;31m       outputs = execute.execute(\n\u001b[0m\u001b[1;32m   1684\u001b[0m           \u001b[0mname\u001b[0m\u001b[0;34m.\u001b[0m\u001b[0mdecode\u001b[0m\u001b[0;34m(\u001b[0m\u001b[0;34m\"utf-8\"\u001b[0m\u001b[0;34m)\u001b[0m\u001b[0;34m,\u001b[0m\u001b[0;34m\u001b[0m\u001b[0;34m\u001b[0m\u001b[0m\n\u001b[1;32m   1685\u001b[0m           \u001b[0mnum_outputs\u001b[0m\u001b[0;34m=\u001b[0m\u001b[0mnum_outputs\u001b[0m\u001b[0;34m,\u001b[0m\u001b[0;34m\u001b[0m\u001b[0;34m\u001b[0m\u001b[0m\n",
            "\u001b[0;32m/usr/local/lib/python3.11/dist-packages/tensorflow/python/eager/execute.py\u001b[0m in \u001b[0;36mquick_execute\u001b[0;34m(op_name, num_outputs, inputs, attrs, ctx, name)\u001b[0m\n\u001b[1;32m     51\u001b[0m   \u001b[0;32mtry\u001b[0m\u001b[0;34m:\u001b[0m\u001b[0;34m\u001b[0m\u001b[0;34m\u001b[0m\u001b[0m\n\u001b[1;32m     52\u001b[0m     \u001b[0mctx\u001b[0m\u001b[0;34m.\u001b[0m\u001b[0mensure_initialized\u001b[0m\u001b[0;34m(\u001b[0m\u001b[0;34m)\u001b[0m\u001b[0;34m\u001b[0m\u001b[0;34m\u001b[0m\u001b[0m\n\u001b[0;32m---> 53\u001b[0;31m     tensors = pywrap_tfe.TFE_Py_Execute(ctx._handle, device_name, op_name,\n\u001b[0m\u001b[1;32m     54\u001b[0m                                         inputs, attrs, num_outputs)\n\u001b[1;32m     55\u001b[0m   \u001b[0;32mexcept\u001b[0m \u001b[0mcore\u001b[0m\u001b[0;34m.\u001b[0m\u001b[0m_NotOkStatusException\u001b[0m \u001b[0;32mas\u001b[0m \u001b[0me\u001b[0m\u001b[0;34m:\u001b[0m\u001b[0;34m\u001b[0m\u001b[0;34m\u001b[0m\u001b[0m\n",
            "\u001b[0;31mKeyboardInterrupt\u001b[0m: "
          ]
        }
      ]
    },
    {
      "cell_type": "markdown",
      "source": [
        "## Note Generation\n"
      ],
      "metadata": {
        "id": "zcEAjxfGd45j"
      }
    },
    {
      "cell_type": "code",
      "source": [
        "def get_inputSequence(notes, pitchnames, n_vocab):\n",
        "  \"\"\" Prepare the sequence used by the Neural Network \"\"\"\n",
        "  note_to_int = dict((note, number) for number, note in enumerate(pitchnames))\n",
        "\n",
        "  sequence_length = 100\n",
        "  network_input = []\n",
        "  for i in range(0, len(notes) - sequence_length, 1):\n",
        "    sequence_in = notes[i: i + sequence_length]\n",
        "    network_input.append([note_to_int[char] for char in sequence_in])\n",
        "\n",
        "  network_input = np.reshape(network_input, (len(network_input), 100, 1))\n",
        "\n",
        "  return (network_input)"
      ],
      "metadata": {
        "id": "7iGwGR-gfN9V"
      },
      "execution_count": null,
      "outputs": []
    },
    {
      "cell_type": "code",
      "source": [
        "def generate_notes(model, network_input, pitchnames, n_vocab):\n",
        "  \"\"\" Generate notes from the neural network based on a sequence of notes \"\"\"\n",
        "\n",
        "  start = np.random.randint(0, len(network_input)-1)\n",
        "\n",
        "  int_to_note = dict((number, note) for number, note in enumerate(pitchnames))\n",
        "\n",
        "  pattern = list(network_input[start])\n",
        "  prediction_output = []\n",
        "\n",
        "  print('Generating notes....')\n",
        "\n",
        "  for note_indec in range(500):\n",
        "    prediction_input = np.reshape(pattern, (1, len(pattern), 1))\n",
        "    prediction_input = prediction_input / float(n_vocab)\n",
        "\n",
        "    prediction = model.predict(prediction_input, verbose=0)\n",
        "\n",
        "    index = np.argmax(prediction)\n",
        "    result = int_to_note[index]\n",
        "    prediction_output.append(result)\n",
        "\n",
        "    pattern.append(index)\n",
        "    pettern = pattern[1:len(pattern)]\n",
        "\n",
        "  print('Notes Generated...')\n",
        "  return prediction_output"
      ],
      "metadata": {
        "id": "jqH69ikvhwl1"
      },
      "execution_count": null,
      "outputs": []
    },
    {
      "cell_type": "code",
      "source": [
        "def create_midi(prediction_output):\n",
        "  \"\"\" Convert the output from the preduction to notes and create a midi file from the notes \"\"\"\n",
        "  offset = 0\n",
        "  output_notes = []\n",
        "\n",
        "  for pattern in prediction_output:\n",
        "    if('.' in pattern) or pattern.isdigit():\n",
        "      notes_in_chord = pattern.split('.')\n",
        "      notes = []\n",
        "      for current_note in notes_in_chord:\n",
        "        new_note = note.Note(int(current_note))\n",
        "        new:note.storeInstrument = instrument.Guitar()\n",
        "      new_chord = chord.Chord(notes)\n",
        "      new_chord.offset = offset\n",
        "      output_notes.append(new_note)\n",
        "      offset += 0.5\n",
        "\n",
        "    midi_stream = stream.Stream(output_notes)\n",
        "\n",
        "    print('Saving Output file as midi...')\n",
        "    midi_stream.write('midi', fp='test_output.mid')"
      ],
      "metadata": {
        "id": "ls42kXy_km_5"
      },
      "execution_count": null,
      "outputs": []
    },
    {
      "cell_type": "code",
      "source": [
        "def generate():\n",
        "  \"\"\"Generate a piano midi file\"\"\"\n",
        "  path = '/content/drive/My Drive/University/AI2Arts/data'\n",
        "  with open(os.path.join(path, 'notes'), 'rb') as filepath:\n",
        "    notes = pickle.lead(filepath)\n",
        "\n",
        "  pitchnames = sorted(set(item for item in notes))\n",
        "  n_vocab = len(set(notes))\n",
        "\n",
        "  print('Initating music generation process...')\n",
        "\n",
        "  network_input = get_inputSequence(notes, pitchnames, n_vocab)\n",
        "  normalized_input = network_input / float(n_vocab)\n",
        "  model = create_network(normalized_input, n_vocab)\n",
        "  model.summary()\n",
        "  print('Loading model weights')\n",
        "  model.load_weights('weights.best.music3.keras')\n",
        "  print('Model Loaded')\n",
        "  prediction_output = generate_notes(model, network_input, pitchnames, n_vocab)\n",
        "  create_midi(prediction_output)"
      ],
      "metadata": {
        "id": "cDGDqeNYd72t"
      },
      "execution_count": null,
      "outputs": []
    },
    {
      "cell_type": "code",
      "source": [
        "generate()"
      ],
      "metadata": {
        "id": "csQlLJ_Vl86D"
      },
      "execution_count": null,
      "outputs": []
    },
    {
      "cell_type": "markdown",
      "source": [
        "## Play MIDI"
      ],
      "metadata": {
        "id": "1RSAkYNtmCCy"
      }
    },
    {
      "cell_type": "code",
      "source": [
        "import pygame\n",
        "\n",
        "def play_music(music_file):\n",
        "  \"\"\" Stream music with mixer.music module in blocking manner.\n",
        "  This will stream the sound from disk while playing \"\"\"\n",
        "\n",
        "  clock = pygame.time.clock()\n",
        "  try:\n",
        "    pygame.mixer.music.load(music_file)\n",
        "    print(\"Music file %s loaded!\" % music_file)\n",
        "  except pygame.error:\n",
        "    print(\"File %s not found! (%s)\"% (music_file, pygame.get_error()))\n",
        "    return\n",
        "  pygame.mixer.music.play()\n",
        "  while pygame.mixer.music.get_busy():\n",
        "    clock.tick(30)"
      ],
      "metadata": {
        "id": "RWBxxXaKmL9y"
      },
      "execution_count": null,
      "outputs": []
    },
    {
      "cell_type": "code",
      "source": [
        "def play_midi(midi_file):\n",
        "  freq = 44100\n",
        "  bitsize = -16\n",
        "  channels = 2\n",
        "  buffer = 1024\n",
        "  pygame.init(freq, bitsize, channels, buffer)\n",
        "\n",
        "  pygame.mixer.music.set_volume(0.8)\n",
        "\n",
        "  try:\n",
        "    play_music(midi_file)\n",
        "  except KeyboardInterrupt:\n",
        "    pygame.mixer.music.fadeout(1000)\n",
        "    pygame.mixer.music.stop()\n",
        "    raise SystemExit"
      ],
      "metadata": {
        "id": "FdlkXUe3nNYd"
      },
      "execution_count": null,
      "outputs": []
    },
    {
      "cell_type": "code",
      "source": [
        "play_midi('test_output.mid')"
      ],
      "metadata": {
        "id": "KE-EAIoSn53O"
      },
      "execution_count": null,
      "outputs": []
    }
  ]
}