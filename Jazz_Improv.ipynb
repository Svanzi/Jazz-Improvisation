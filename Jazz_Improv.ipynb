{
  "nbformat": 4,
  "nbformat_minor": 0,
  "metadata": {
    "colab": {
      "provenance": [],
      "collapsed_sections": [
        "IeYKUmAq8OrN"
      ],
      "authorship_tag": "ABX9TyO3VYXPUV5dwV+dz2n9jh59",
      "include_colab_link": true
    },
    "kernelspec": {
      "name": "python3",
      "display_name": "Python 3"
    },
    "language_info": {
      "name": "python"
    }
  },
  "cells": [
    {
      "cell_type": "markdown",
      "metadata": {
        "id": "view-in-github",
        "colab_type": "text"
      },
      "source": [
        "<a href=\"https://colab.research.google.com/github/Svanzi/Jazz-Improvisation/blob/main/Jazz_Improv.ipynb\" target=\"_parent\"><img src=\"https://colab.research.google.com/assets/colab-badge.svg\" alt=\"Open In Colab\"/></a>"
      ]
    },
    {
      "cell_type": "code",
      "source": [
        "import sys\n",
        "import re\n",
        "import numpy as np\n",
        "import pandas as pd\n",
        "import music21\n",
        "from glob import glob\n",
        "import IPython\n",
        "from tqdm import tqdm\n",
        "import pickle\n",
        "from tensorflow.keras.utils import to_categorical\n",
        "# import play\n",
        "import os"
      ],
      "metadata": {
        "id": "1rRIAe0EXKL5"
      },
      "execution_count": 41,
      "outputs": []
    },
    {
      "cell_type": "code",
      "source": [
        "!git clone https://github.com/Svanzi/Jazz-Improvisation.git\n",
        "%cd Jazz-Improvisation"
      ],
      "metadata": {
        "colab": {
          "base_uri": "https://localhost:8080/"
        },
        "id": "o4vPhvsPax6b",
        "outputId": "1a353312-045d-404c-bf8b-36e1c4e3375b"
      },
      "execution_count": 65,
      "outputs": [
        {
          "output_type": "stream",
          "name": "stdout",
          "text": [
            "Cloning into 'Jazz-Improvisation'...\n",
            "remote: Enumerating objects: 46, done.\u001b[K\n",
            "remote: Counting objects:   2% (1/46)\u001b[K\rremote: Counting objects:   4% (2/46)\u001b[K\rremote: Counting objects:   6% (3/46)\u001b[K\rremote: Counting objects:   8% (4/46)\u001b[K\rremote: Counting objects:  10% (5/46)\u001b[K\rremote: Counting objects:  13% (6/46)\u001b[K\rremote: Counting objects:  15% (7/46)\u001b[K\rremote: Counting objects:  17% (8/46)\u001b[K\rremote: Counting objects:  19% (9/46)\u001b[K\rremote: Counting objects:  21% (10/46)\u001b[K\rremote: Counting objects:  23% (11/46)\u001b[K\rremote: Counting objects:  26% (12/46)\u001b[K\rremote: Counting objects:  28% (13/46)\u001b[K\rremote: Counting objects:  30% (14/46)\u001b[K\rremote: Counting objects:  32% (15/46)\u001b[K\rremote: Counting objects:  34% (16/46)\u001b[K\rremote: Counting objects:  36% (17/46)\u001b[K\rremote: Counting objects:  39% (18/46)\u001b[K\rremote: Counting objects:  41% (19/46)\u001b[K\rremote: Counting objects:  43% (20/46)\u001b[K\rremote: Counting objects:  45% (21/46)\u001b[K\rremote: Counting objects:  47% (22/46)\u001b[K\rremote: Counting objects:  50% (23/46)\u001b[K\rremote: Counting objects:  52% (24/46)\u001b[K\rremote: Counting objects:  54% (25/46)\u001b[K\rremote: Counting objects:  56% (26/46)\u001b[K\rremote: Counting objects:  58% (27/46)\u001b[K\rremote: Counting objects:  60% (28/46)\u001b[K\rremote: Counting objects:  63% (29/46)\u001b[K\rremote: Counting objects:  65% (30/46)\u001b[K\rremote: Counting objects:  67% (31/46)\u001b[K\rremote: Counting objects:  69% (32/46)\u001b[K\rremote: Counting objects:  71% (33/46)\u001b[K\rremote: Counting objects:  73% (34/46)\u001b[K\rremote: Counting objects:  76% (35/46)\u001b[K\rremote: Counting objects:  78% (36/46)\u001b[K\rremote: Counting objects:  80% (37/46)\u001b[K\rremote: Counting objects:  82% (38/46)\u001b[K\rremote: Counting objects:  84% (39/46)\u001b[K\rremote: Counting objects:  86% (40/46)\u001b[K\rremote: Counting objects:  89% (41/46)\u001b[K\rremote: Counting objects:  91% (42/46)\u001b[K\rremote: Counting objects:  93% (43/46)\u001b[K\rremote: Counting objects:  95% (44/46)\u001b[K\rremote: Counting objects:  97% (45/46)\u001b[K\rremote: Counting objects: 100% (46/46)\u001b[K\rremote: Counting objects: 100% (46/46), done.\u001b[K\n",
            "remote: Compressing objects:   2% (1/41)\u001b[K\rremote: Compressing objects:   4% (2/41)\u001b[K\rremote: Compressing objects:   7% (3/41)\u001b[K\rremote: Compressing objects:   9% (4/41)\u001b[K\rremote: Compressing objects:  12% (5/41)\u001b[K\rremote: Compressing objects:  14% (6/41)\u001b[K\rremote: Compressing objects:  17% (7/41)\u001b[K\rremote: Compressing objects:  19% (8/41)\u001b[K\rremote: Compressing objects:  21% (9/41)\u001b[K\rremote: Compressing objects:  24% (10/41)\u001b[K\rremote: Compressing objects:  26% (11/41)\u001b[K\rremote: Compressing objects:  29% (12/41)\u001b[K\rremote: Compressing objects:  31% (13/41)\u001b[K\rremote: Compressing objects:  34% (14/41)\u001b[K\rremote: Compressing objects:  36% (15/41)\u001b[K\rremote: Compressing objects:  39% (16/41)\u001b[K\rremote: Compressing objects:  41% (17/41)\u001b[K\rremote: Compressing objects:  43% (18/41)\u001b[K\rremote: Compressing objects:  46% (19/41)\u001b[K\rremote: Compressing objects:  48% (20/41)\u001b[K\rremote: Compressing objects:  51% (21/41)\u001b[K\rremote: Compressing objects:  53% (22/41)\u001b[K\rremote: Compressing objects:  56% (23/41)\u001b[K\rremote: Compressing objects:  58% (24/41)\u001b[K\rremote: Compressing objects:  60% (25/41)\u001b[K\rremote: Compressing objects:  63% (26/41)\u001b[K\rremote: Compressing objects:  65% (27/41)\u001b[K\rremote: Compressing objects:  68% (28/41)\u001b[K\rremote: Compressing objects:  70% (29/41)\u001b[K\rremote: Compressing objects:  73% (30/41)\u001b[K\rremote: Compressing objects:  75% (31/41)\u001b[K\rremote: Compressing objects:  78% (32/41)\u001b[K\rremote: Compressing objects:  80% (33/41)\u001b[K\rremote: Compressing objects:  82% (34/41)\u001b[K\rremote: Compressing objects:  85% (35/41)\u001b[K\rremote: Compressing objects:  87% (36/41)\u001b[K\rremote: Compressing objects:  90% (37/41)\u001b[K\rremote: Compressing objects:  92% (38/41)\u001b[K\rremote: Compressing objects:  95% (39/41)\u001b[K\rremote: Compressing objects:  97% (40/41)\u001b[K\rremote: Compressing objects: 100% (41/41)\u001b[K\rremote: Compressing objects: 100% (41/41), done.\u001b[K\n",
            "Receiving objects:   2% (1/46)\rReceiving objects:   4% (2/46)\rReceiving objects:   6% (3/46)\rReceiving objects:   8% (4/46)\rReceiving objects:  10% (5/46)\rReceiving objects:  13% (6/46)\rReceiving objects:  15% (7/46)\rReceiving objects:  17% (8/46)\rReceiving objects:  19% (9/46)\rReceiving objects:  21% (10/46)\rReceiving objects:  23% (11/46)\rReceiving objects:  26% (12/46)\rReceiving objects:  28% (13/46)\rReceiving objects:  30% (14/46)\rReceiving objects:  32% (15/46)\rReceiving objects:  34% (16/46)\rReceiving objects:  36% (17/46)\rReceiving objects:  39% (18/46)\rReceiving objects:  41% (19/46)\rReceiving objects:  43% (20/46)\rReceiving objects:  45% (21/46)\rReceiving objects:  47% (22/46)\rReceiving objects:  50% (23/46)\rReceiving objects:  52% (24/46)\rremote: Total 46 (delta 12), reused 3 (delta 0), pack-reused 0 (from 0)\u001b[K\n",
            "Receiving objects:  54% (25/46)\rReceiving objects:  56% (26/46)\rReceiving objects:  58% (27/46)\rReceiving objects:  60% (28/46)\rReceiving objects:  63% (29/46)\rReceiving objects:  65% (30/46)\rReceiving objects:  67% (31/46)\rReceiving objects:  69% (32/46)\rReceiving objects:  71% (33/46)\rReceiving objects:  73% (34/46)\rReceiving objects:  76% (35/46)\rReceiving objects:  78% (36/46)\rReceiving objects:  80% (37/46)\rReceiving objects:  82% (38/46)\rReceiving objects:  84% (39/46)\rReceiving objects:  86% (40/46)\rReceiving objects:  89% (41/46)\rReceiving objects:  91% (42/46)\rReceiving objects:  93% (43/46)\rReceiving objects:  95% (44/46)\rReceiving objects:  97% (45/46)\rReceiving objects: 100% (46/46)\rReceiving objects: 100% (46/46), 39.16 KiB | 2.30 MiB/s, done.\n",
            "Resolving deltas:   0% (0/12)\rResolving deltas:   8% (1/12)\rResolving deltas:  16% (2/12)\rResolving deltas:  25% (3/12)\rResolving deltas:  33% (4/12)\rResolving deltas:  41% (5/12)\rResolving deltas:  50% (6/12)\rResolving deltas:  58% (7/12)\rResolving deltas:  66% (8/12)\rResolving deltas:  75% (9/12)\rResolving deltas:  83% (10/12)\rResolving deltas:  91% (11/12)\rResolving deltas: 100% (12/12)\rResolving deltas: 100% (12/12), done.\n",
            "/content/Jazz-Improvisation/Jazz-Improvisation/Jazz-Improvisation/Jazz-Improvisation/Jazz-Improvisation\n"
          ]
        }
      ]
    },
    {
      "cell_type": "code",
      "source": [
        "from music21 import converter, instrument, note, chord, stream"
      ],
      "metadata": {
        "id": "z0n66BELZphD"
      },
      "execution_count": 43,
      "outputs": []
    },
    {
      "cell_type": "code",
      "source": [
        "songs = glob(\"MIDI/*.mid\")\n",
        "# Per verificare che il caricamento dei file sia andato a buon fine e che i file midi siano presenti\n",
        "print(songs)"
      ],
      "metadata": {
        "colab": {
          "base_uri": "https://localhost:8080/"
        },
        "id": "wIJX_ga5Zv3h",
        "outputId": "81156f44-5582-48fc-fd03-08904be4fda3"
      },
      "execution_count": 66,
      "outputs": [
        {
          "output_type": "stream",
          "name": "stdout",
          "text": [
            "['MIDI/Nintendo_-_Dr._Mario.mid', 'MIDI/Cameron_Lee_Simpson_-_Illumination_Nights.mid', 'MIDI/Jacob_Allen_-_Test.mid', 'MIDI/Andre_and_Schwandt_-_Dream_a_Little_Dream.mid', 'MIDI/michel_petrucciani_caravan_solo_-_michel_petrucciani_caravan_solo.mid', 'MIDI/Moab_Berckmans_de_Oliveira_-_MBOM06.mid', 'MIDI/Ensemble-_Isaac_Piano_Week_4_with_structure__-_Ensamble__Geo_Drum_110_Bpm.mid']\n"
          ]
        }
      ]
    },
    {
      "cell_type": "markdown",
      "source": [
        "## Load all the notes in an array"
      ],
      "metadata": {
        "id": "n_622W7hdB-w"
      }
    },
    {
      "cell_type": "code",
      "source": [
        "def get_notes():\n",
        "  notes = []\n",
        "  for file in songs:\n",
        "    midi = converter.parse(file)\n",
        "    notes_to_parse = []\n",
        "\n",
        "    try:\n",
        "      parts = instrument.partitionByInstrument(midi)\n",
        "    except:\n",
        "      pass\n",
        "    if parts: # file has instrument parts\n",
        "      notes_to_parse = parts.parts[0].recurse()\n",
        "    else: # file has notes in a flat structure\n",
        "      notes_to_parse = midi.flat.notes\n",
        "\n",
        "    for element in  notes_to_parse:\n",
        "      if isinstance(element, note.Note):\n",
        "        notes.append(str(element.pitch))\n",
        "      elif isinstance(element, chord.Chord):\n",
        "        notes.append('.'.join(str(n) for n in element.normalOrder))\n",
        "\n",
        "  return notes"
      ],
      "metadata": {
        "id": "8Appqeyic-g_"
      },
      "execution_count": 67,
      "outputs": []
    },
    {
      "cell_type": "markdown",
      "source": [
        "## Define the input and output sequences"
      ],
      "metadata": {
        "id": "JVGRxevi1Q3X"
      }
    },
    {
      "cell_type": "code",
      "source": [
        "# n_vocab represent the total number of unique notes in the variable 'notes_data'\n",
        "def sequences(notes, n_vocab):\n",
        "  sequence_length = 100\n",
        "\n",
        "  pitchnames = sorted(set(item for item in notes))\n",
        "\n",
        "  note_to_int = dict((note, number) for number, note in enumerate(pitchnames))\n",
        "\n",
        "  network_input = []\n",
        "  network_output = []\n",
        "\n",
        "  for i in range(0, len(notes) - sequence_length, 1):\n",
        "    sequence_in = notes[i: i + sequence_length]\n",
        "    sequence_out = note[i + sequence_length]\n",
        "    network_input.append(note_to_int[char] for char in sequence_in)\n",
        "    network_output.append(note_to_int[sequence_out])\n",
        "\n",
        "  n_patterns = len(network_input)\n",
        "\n",
        "  network_input = np.reshape(network_input, (n_patterns, sequence_length, 1))\n",
        "\n",
        "  network_input = network_input / float(n_vocab)\n",
        "\n",
        "  network_output = np_utils.to_categorical(network_output)\n",
        "\n",
        "  return (network_input, network_output)"
      ],
      "metadata": {
        "id": "_Rx2cR5I1Y3B"
      },
      "execution_count": 75,
      "outputs": []
    },
    {
      "cell_type": "markdown",
      "source": [
        "## Create the Network"
      ],
      "metadata": {
        "id": "IeYKUmAq8OrN"
      }
    },
    {
      "cell_type": "code",
      "source": [
        "from keras.model import Sequential\n",
        "from keras.model import Activation, Dense, Dropout, LSTM, Flatten\n",
        "\n",
        "def create_network(network_input, n_vocab):\n",
        "  \"\"\"Create the model architecture\"\"\"\n",
        "  model = Sequential()\n",
        "  model.add(LSTM(256, input_shape=(network_input.shape[1], network_input.shape[2]), return_sequences=True))\n",
        "  model.add(Dropout(0.3))\n",
        "  model.add(LSTM(512, return_sequence=True))\n",
        "  model.add(Dropout(0.3))\n",
        "  model.add(LSTM(256))\n",
        "  model.add(Dense(256))\n",
        "  model.add(Dropout(0.3))\n",
        "  model.add(Dense(n_vocab))\n",
        "  model.add(Activation('softmax'))\n",
        "  model.compile(loss='categorical_crossentropy', optimizer='rmsprop')\n",
        "\n",
        "  return model"
      ],
      "metadata": {
        "id": "7ohJ7FWI8UCa"
      },
      "execution_count": null,
      "outputs": []
    },
    {
      "cell_type": "markdown",
      "source": [
        "## Train"
      ],
      "metadata": {
        "id": "buAB4p-p10bW"
      }
    },
    {
      "cell_type": "code",
      "source": [
        "from keras.callbacks import ModelCheckpoint\n",
        "\n",
        "def train(model, network_input, network_output, epochs):\n",
        "  \"\"\"Train the neural network\"\"\"\n",
        "\n",
        "  filepath = \"weights-improvement-{epoch:02d}-{loss:4.f}-bigger.hdf5\"\n",
        "\n",
        "  checkpoint = ModelCheckpoint(\n",
        "      filepath,\n",
        "      monitor = 'loss',\n",
        "      verbose = 0,\n",
        "      save_best_only = True,\n",
        "      mode = 'min'\n",
        "  )\n",
        "\n",
        "  callbacks_list = [checkpoint]\n",
        "\n",
        "  model.fit(network_input, network_output, epochs=200, batch_size=64, callbacks = callbacks_list)"
      ],
      "metadata": {
        "id": "0hEEsdAYAsRg"
      },
      "execution_count": null,
      "outputs": []
    },
    {
      "cell_type": "code",
      "source": [
        "def train_network():\n",
        "  \"\"\"\n",
        "  Get notes\n",
        "  Generates input and putput sequences\n",
        "  Create model\n",
        "  TRains the model for the given epochs\n",
        "  \"\"\"\n",
        "\n",
        "  epochs = 200\n",
        "\n",
        "  notes_data = get_notes()\n",
        "  print('Notes processed')\n",
        "\n",
        "  n_vocab = len(set(notes_data))\n",
        "  print('Vocab generated')\n",
        "\n",
        "  network_in, network_out = sequences(notes_data, n_vocab)\n",
        "  print('Input and Output processed')\n",
        "\n",
        "  model = create_network(network_in, n_vocab)"
      ],
      "metadata": {
        "id": "u8mRO_v1hie1"
      },
      "execution_count": 73,
      "outputs": []
    },
    {
      "cell_type": "code",
      "source": [
        "print(f\"Extracted {len(notes_data)} notes/chords.\")\n",
        "print(\"First 20 entries:\", notes_data[:20])"
      ],
      "metadata": {
        "colab": {
          "base_uri": "https://localhost:8080/"
        },
        "id": "xFDT5LfEiRoO",
        "outputId": "3c730082-abdd-488c-d729-8737646b0d57"
      },
      "execution_count": 74,
      "outputs": [
        {
          "output_type": "stream",
          "name": "stdout",
          "text": [
            "Extracted 3133 notes/chords.\n",
            "First 10 entries: ['7.9.0.3', 'C4', '3.7', '0.2', 'E-4', 'C4', '7.9.0.3', '3.7', '0.2', '5.8.10.1', 'C4', '7.9.0.3', '3.7', '0.2', 'E-4', 'C4', '7.9.0.3', '3.7', '0.2', '6.8.10.2']\n"
          ]
        }
      ]
    }
  ]
}